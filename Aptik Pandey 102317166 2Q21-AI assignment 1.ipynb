{
 "cells": [
  {
   "cell_type": "code",
   "execution_count": 4,
   "id": "b73d4886-3670-4989-a58c-662ed759f422",
   "metadata": {},
   "outputs": [
    {
     "name": "stdout",
     "output_type": "stream",
     "text": [
      "Enter marks for student 1:\n"
     ]
    },
    {
     "name": "stdout",
     "output_type": "stream",
     "text": [
      "Maths:  10\n",
      "Science:  20\n",
      "English:  30\n",
      "IT:  40\n"
     ]
    },
    {
     "name": "stdout",
     "output_type": "stream",
     "text": [
      "Enter marks for student 2:\n"
     ]
    },
    {
     "name": "stdout",
     "output_type": "stream",
     "text": [
      "Maths:  50\n",
      "Science:  60\n",
      "English:  70\n",
      "IT:  80\n"
     ]
    },
    {
     "name": "stdout",
     "output_type": "stream",
     "text": [
      "Enter marks for student 3:\n"
     ]
    },
    {
     "name": "stdout",
     "output_type": "stream",
     "text": [
      "Maths:  90\n",
      "Science:  100\n",
      "English:  10\n",
      "IT:  20\n"
     ]
    },
    {
     "name": "stdout",
     "output_type": "stream",
     "text": [
      "Enter marks for student 4:\n"
     ]
    },
    {
     "name": "stdout",
     "output_type": "stream",
     "text": [
      "Maths:  30\n",
      "Science:  40\n",
      "English:  50\n",
      "IT:  60\n"
     ]
    },
    {
     "name": "stdout",
     "output_type": "stream",
     "text": [
      "Enter marks for student 5:\n"
     ]
    },
    {
     "name": "stdout",
     "output_type": "stream",
     "text": [
      "Maths:  10\n",
      "Science:  20\n",
      "English:  30\n",
      "IT:  40\n"
     ]
    },
    {
     "name": "stdout",
     "output_type": "stream",
     "text": [
      "Enter marks for student 6:\n"
     ]
    },
    {
     "name": "stdout",
     "output_type": "stream",
     "text": [
      "Maths:  50\n",
      "Science:  60\n",
      "English:  70\n",
      "IT:  80\n"
     ]
    },
    {
     "name": "stdout",
     "output_type": "stream",
     "text": [
      "Enter marks for student 7:\n"
     ]
    },
    {
     "name": "stdout",
     "output_type": "stream",
     "text": [
      "Maths:  90\n",
      "Science:  10\n",
      "English:  20\n",
      "IT:  30\n"
     ]
    },
    {
     "name": "stdout",
     "output_type": "stream",
     "text": [
      "Enter marks for student 8:\n"
     ]
    },
    {
     "name": "stdout",
     "output_type": "stream",
     "text": [
      "Maths:  40\n",
      "Science:  50\n",
      "English:  60\n",
      "IT:  70\n"
     ]
    },
    {
     "name": "stdout",
     "output_type": "stream",
     "text": [
      "Enter marks for student 9:\n"
     ]
    },
    {
     "name": "stdout",
     "output_type": "stream",
     "text": [
      "Maths:  80\n",
      "Science:  90\n",
      "English:  100\n",
      "IT:  10\n"
     ]
    },
    {
     "name": "stdout",
     "output_type": "stream",
     "text": [
      "Enter marks for student 10:\n"
     ]
    },
    {
     "name": "stdout",
     "output_type": "stream",
     "text": [
      "Maths:  20\n",
      "Science:  30\n",
      "English:  40\n",
      "IT:  50\n"
     ]
    },
    {
     "name": "stdout",
     "output_type": "stream",
     "text": [
      "\n",
      "--- Results ---\n",
      "Maths - Highest: 90, Lowest: 10, Average: 47.00\n",
      "Science - Highest: 100, Lowest: 10, Average: 48.00\n",
      "English - Highest: 100, Lowest: 10, Average: 48.00\n",
      "IT - Highest: 80, Lowest: 10, Average: 48.00\n",
      "Overall - Highest: 100, Lowest: 10, Average: 47.75\n"
     ]
    }
   ],
   "source": [
    "\"\"\"A class with 10 students wants to produce some information from the results of the four standard\n",
    "tests in Maths, Science, English and IT. Each test is out of 100 marks. The information output\n",
    "should be the highest, lowest, and average mark for each test and the highest, lowest, and average\n",
    "overall. Write a program in Python to complete this task.\"\"\"\n",
    "\n",
    "\n",
    "marks = []\n",
    "for i in range(10):\n",
    "    print(f\"Enter marks for student {i+1}:\")\n",
    "    maths = int(input(\"Maths: \"))\n",
    "    science = int(input(\"Science: \"))\n",
    "    english = int(input(\"English: \"))\n",
    "    it = int(input(\"IT: \"))\n",
    "    marks.append([maths, science, english, it])\n",
    "\n",
    "\n",
    "overall_marks = []\n",
    "\n",
    "highest_overall = -1\n",
    "lowest_overall = 101\n",
    "total_marks = 0\n",
    "\n",
    "\n",
    "highest_maths = -1\n",
    "lowest_maths = 101\n",
    "total_maths = 0\n",
    "\n",
    "highest_science = -1\n",
    "lowest_science = 101\n",
    "total_science = 0\n",
    "\n",
    "highest_english = -1\n",
    "lowest_english = 101\n",
    "total_english = 0\n",
    "\n",
    "highest_it = -1\n",
    "lowest_it = 101\n",
    "total_it = 0\n",
    "\n",
    "\n",
    "for student in marks:\n",
    "    maths, science, english, it = student\n",
    "    \n",
    "\n",
    "    overall_marks.append([maths, science, english, it])\n",
    "    highest_overall = max(highest_overall, maths, science, english, it)\n",
    "    lowest_overall = min(lowest_overall, maths, science, english, it)\n",
    "    total_marks += maths + science + english + it\n",
    "\n",
    "\n",
    "    highest_maths = max(highest_maths, maths)\n",
    "    lowest_maths = min(lowest_maths, maths)\n",
    "    total_maths += maths\n",
    "    \n",
    "\n",
    "    highest_science = max(highest_science, science)\n",
    "    lowest_science = min(lowest_science, science)\n",
    "    total_science += science\n",
    "    \n",
    "\n",
    "    highest_english = max(highest_english, english)\n",
    "    lowest_english = min(lowest_english, english)\n",
    "    total_english += english\n",
    "    \n",
    "\n",
    "    highest_it = max(highest_it, it)\n",
    "    lowest_it = min(lowest_it, it)\n",
    "    total_it += it\n",
    "\n",
    "\n",
    "average_overall = total_marks / (10 * 4)\n",
    "average_maths = total_maths / 10\n",
    "average_science = total_science / 10\n",
    "average_english = total_english / 10\n",
    "average_it = total_it / 10\n",
    "\n",
    "\n",
    "print(\"\\n--- Results ---\")\n",
    "print(f\"Maths - Highest: {highest_maths}, Lowest: {lowest_maths}, Average: {average_maths:.2f}\")\n",
    "print(f\"Science - Highest: {highest_science}, Lowest: {lowest_science}, Average: {average_science:.2f}\")\n",
    "print(f\"English - Highest: {highest_english}, Lowest: {lowest_english}, Average: {average_english:.2f}\")\n",
    "print(f\"IT - Highest: {highest_it}, Lowest: {lowest_it}, Average: {average_it:.2f}\")\n",
    "print(f\"Overall - Highest: {highest_overall}, Lowest: {lowest_overall}, Average: {average_overall:.2f}\")\n"
   ]
  },
  {
   "cell_type": "code",
   "execution_count": 5,
   "id": "53985f0c-910d-4600-b81f-8588111b0e33",
   "metadata": {},
   "outputs": [
    {
     "name": "stdout",
     "output_type": "stream",
     "text": [
      "Enter the basic salary of the employee:  60000\n"
     ]
    },
    {
     "name": "stdout",
     "output_type": "stream",
     "text": [
      "Gross Salary: 135000.00\n"
     ]
    }
   ],
   "source": [
    "\"\"\"Write a Python Program to input basic salary of an employee and calculate its Gross salary\n",
    "according to following: Basic Salary <= 10000 : HRA = 20%, DA = 80% Basic Salary <= 20000\n",
    ": HRA = 25%, DA = 90% Basic Salary > 20000 : HRA = 30%, DA = 95%.\"\"\"\n",
    "\n",
    "\n",
    "basic_salary = float(input(\"Enter the basic salary of the employee: \"))\n",
    "\n",
    "\n",
    "if basic_salary <= 10000:\n",
    "    hra = 0.20 * basic_salary  \n",
    "    da = 0.80 * basic_salary \n",
    "elif basic_salary <= 20000:\n",
    "    hra = 0.25 * basic_salary  \n",
    "    da = 0.90 * basic_salary  \n",
    "else:\n",
    "    hra = 0.30 * basic_salary \n",
    "    da = 0.95 * basic_salary \n",
    "\n",
    "\n",
    "gross_salary = basic_salary + hra + da\n",
    "\n",
    "\n",
    "print(f\"Gross Salary: {gross_salary:.2f}\")\n"
   ]
  },
  {
   "cell_type": "code",
   "execution_count": 7,
   "id": "2c45bb8d-cf48-4f23-8d44-47978b296e35",
   "metadata": {},
   "outputs": [
    {
     "name": "stdout",
     "output_type": "stream",
     "text": [
      "Enter your password:  @#10Million\n"
     ]
    },
    {
     "name": "stdout",
     "output_type": "stream",
     "text": [
      "Valid password!\n"
     ]
    }
   ],
   "source": [
    "\"\"\"\n",
    "Write a Python program to check the validity of password input by users.\n",
    "\n",
    "Validation:\n",
    "• At least 1 letter between [a-z] and 1 letter between [A-Z].\n",
    "• At least 1 number between [0-9].\n",
    "• At least 1 character from [$#@].\n",
    "• Minimum length 6 characters.\n",
    "• Maximum length 16 characters.\n",
    "\"\"\"\n",
    "\n",
    "import re\n",
    "\n",
    "def validate_password(password):\n",
    "    if len(password) < 6 or len(password) > 16:\n",
    "        return \"Invalid: Password length must be between 6 and 16 characters.\"\n",
    "    \n",
    "    if not re.search(\"[a-z]\", password):\n",
    "        return \"Invalid: Password must contain at least one lowercase letter.\"\n",
    "    \n",
    "    if not re.search(\"[A-Z]\", password):\n",
    "        return \"Invalid: Password must contain at least one uppercase letter.\"\n",
    "    \n",
    "    if not re.search(\"[0-9]\", password):\n",
    "        return \"Invalid: Password must contain at least one digit.\"\n",
    "    \n",
    "\n",
    "    if not re.search(\"[$#@]\", password):\n",
    "        return \"Invalid: Password must contain at least one special character ($, #, @).\"\n",
    "    \n",
    "    return \"Valid password!\"\n",
    "\n",
    "user_password = input(\"Enter your password: \")\n",
    "\n",
    "result = validate_password(user_password)\n",
    "print(result)\n"
   ]
  },
  {
   "cell_type": "code",
   "execution_count": 9,
   "id": "866f7cab-a582-48cf-b672-634589c56f85",
   "metadata": {},
   "outputs": [
    {
     "name": "stdout",
     "output_type": "stream",
     "text": [
      "After adding 200 and 300: [10, 20, 30, 40, 50, 60, 70, 80, 200, 300]\n",
      "After removing 10 and 30: [20, 40, 50, 60, 70, 80, 200, 300]\n",
      "Sorted in ascending order: [20, 40, 50, 60, 70, 80, 200, 300]\n",
      "Sorted in descending order: [300, 200, 80, 70, 60, 50, 40, 20]\n"
     ]
    }
   ],
   "source": [
    "\"\"\"\n",
    "Create a List L that is defined as= [10, 20, 30, 40, 50, 60, 70, 80].\n",
    "\n",
    "(i) WAP to add 200 and 300 to L.\n",
    "(ii) WAP to remove 10 and 30 from L.\n",
    "(iii) WAP to sort L in ascending order.\n",
    "(iv) WAP to sort L in descending order.\n",
    "\"\"\"\n",
    "\n",
    "\n",
    "L = [10, 20, 30, 40, 50, 60, 70, 80]\n",
    "\n",
    "\n",
    "L.append(200)\n",
    "L.append(300)\n",
    "print(f\"After adding 200 and 300: {L}\")\n",
    "\n",
    "\n",
    "L.remove(10)\n",
    "L.remove(30)\n",
    "print(f\"After removing 10 and 30: {L}\")\n",
    "\n",
    "\n",
    "L.sort()\n",
    "print(f\"Sorted in ascending order: {L}\")\n",
    "\n",
    "\n",
    "L.sort(reverse=True)\n",
    "print(f\"Sorted in descending order: {L}\")\n"
   ]
  },
  {
   "cell_type": "code",
   "execution_count": 10,
   "id": "7aa028cd-e77f-413d-ac21-b8c1f20b8f9d",
   "metadata": {},
   "outputs": [
    {
     "name": "stdout",
     "output_type": "stream",
     "text": [
      "After adding key=6: {1: 'One', 2: 'Two', 3: 'Three', 4: 'Four', 5: 'Five', 6: 'Six'}\n",
      "After removing key=2: {1: 'One', 3: 'Three', 4: 'Four', 5: 'Five', 6: 'Six'}\n",
      "Key=6 is present in D.\n",
      "Number of elements in D: 5\n",
      "All values combined: One Three Four Five Six\n"
     ]
    }
   ],
   "source": [
    "\"\"\"\n",
    "D is a dictionary defined as D= {1:”One”, 2:”Two”, 3:”Three”, 4: “Four”, 5:”Five”}.\n",
    "(i) WAP to add new entry in D; key=6 and value is “Six”\n",
    "(ii) WAP to remove key=2.\n",
    "(iii) WAP to check if 6 key is present in D.\n",
    "(iv) WAP to count the number of elements present in D.\n",
    "(v) WAP to add all the values present D.\n",
    "\"\"\"\n",
    "\n",
    "\n",
    "\n",
    "D = {1: \"One\", 2: \"Two\", 3: \"Three\", 4: \"Four\", 5: \"Five\"}\n",
    "\n",
    "\n",
    "D[6] = \"Six\"\n",
    "print(f\"After adding key=6: {D}\")\n",
    "\n",
    "\n",
    "if 2 in D:\n",
    "    D.pop(2)\n",
    "print(f\"After removing key=2: {D}\")\n",
    "\n",
    "\n",
    "if 6 in D:\n",
    "    print(\"Key=6 is present in D.\")\n",
    "else:\n",
    "    print(\"Key=6 is not present in D.\")\n",
    "\n",
    "\n",
    "count = len(D)\n",
    "print(f\"Number of elements in D: {count}\")\n",
    "\n",
    "\n",
    "values_combined = \" \".join(D.values())\n",
    "print(f\"All values combined: {values_combined}\")\n"
   ]
  },
  {
   "cell_type": "code",
   "execution_count": 11,
   "id": "762fa69b-c110-43c6-ad27-461e9d0892f9",
   "metadata": {},
   "outputs": [
    {
     "name": "stdout",
     "output_type": "stream",
     "text": [
      "Random numbers: [208, 219, 356, 273, 169, 214, 607, 785, 506, 839, 613, 844, 721, 574, 781, 423, 593, 151, 215, 195, 601, 585, 654, 865, 536, 546, 646, 166, 397, 240, 436, 402, 810, 164, 676, 893, 349, 199, 331, 725, 752, 548, 675, 578, 207, 498, 860, 119, 171, 276, 185, 795, 180, 625, 109, 134, 476, 204, 860, 793, 331, 407, 773, 194, 539, 227, 218, 409, 369, 285, 221, 106, 559, 150, 899, 663, 600, 455, 510, 512, 123, 617, 618, 506, 393, 256, 512, 199, 662, 686, 782, 754, 311, 827, 260, 850, 268, 109, 730, 237]\n",
      "\n",
      "(i) Odd numbers (53): [219, 273, 169, 607, 785, 839, 613, 721, 781, 423, 593, 151, 215, 195, 601, 585, 865, 397, 893, 349, 199, 331, 725, 675, 207, 119, 171, 185, 795, 625, 109, 793, 331, 407, 773, 539, 227, 409, 369, 285, 221, 559, 899, 663, 455, 123, 617, 393, 199, 311, 827, 109, 237]\n",
      "(ii) Even numbers (47): [208, 356, 214, 506, 844, 574, 654, 536, 546, 646, 166, 240, 436, 402, 810, 164, 676, 752, 548, 578, 498, 860, 276, 180, 134, 476, 204, 860, 194, 218, 106, 150, 600, 510, 512, 618, 506, 256, 512, 662, 686, 782, 754, 260, 850, 268, 730]\n",
      "(iii) Prime numbers (20): [607, 839, 613, 593, 151, 601, 397, 349, 199, 331, 109, 331, 773, 227, 409, 617, 199, 311, 827, 109]\n"
     ]
    }
   ],
   "source": [
    "\"\"\"\n",
    "WAP to create a list of 100 random numbers between 100 and 900. Count and print the:\n",
    "(i) All odd numbers\n",
    "(ii) All even numbers\n",
    "(iii) All prime numbers\n",
    "\"\"\"\n",
    "\n",
    "import random\n",
    "\n",
    "def is_prime(num):\n",
    "    if num < 2:\n",
    "        return False\n",
    "    for i in range(2, int(num**0.5) + 1):\n",
    "        if num % i == 0:\n",
    "            return False\n",
    "    return True\n",
    "\n",
    "\n",
    "random_numbers = [random.randint(100, 900) for _ in range(100)]\n",
    "\n",
    "\n",
    "odd_numbers = [num for num in random_numbers if num % 2 != 0]\n",
    "even_numbers = [num for num in random_numbers if num % 2 == 0]\n",
    "prime_numbers = [num for num in random_numbers if is_prime(num)]\n",
    "\n",
    "\n",
    "print(f\"Random numbers: {random_numbers}\\n\")\n",
    "print(f\"(i) Odd numbers ({len(odd_numbers)}): {odd_numbers}\")\n",
    "print(f\"(ii) Even numbers ({len(even_numbers)}): {even_numbers}\")\n",
    "print(f\"(iii) Prime numbers ({len(prime_numbers)}): {prime_numbers}\")\n"
   ]
  },
  {
   "cell_type": "code",
   "execution_count": 15,
   "id": "c940ddd8-8a1a-4b8e-b882-f28946e9f074",
   "metadata": {},
   "outputs": [
    {
     "name": "stdout",
     "output_type": "stream",
     "text": [
      "Enter the principal amount:  360000\n",
      "Enter the annual interest rate (in %):  10\n",
      "Enter the time (in years):  5\n"
     ]
    },
    {
     "name": "stdout",
     "output_type": "stream",
     "text": [
      "Compound Interest: 219783.60\n"
     ]
    }
   ],
   "source": [
    " \"\"\"(i) Write a function which takes principal amount, interest rate and time. This function returns\n",
    "compound interest. Call this function to print the output.\"\"\"\n",
    "\n",
    "\n",
    "def calculate_compound_interest(principal, rate, time):\n",
    "    # Formula: A = P * (1 + r/100)^t\n",
    "    amount = principal * (1 + rate / 100) ** time\n",
    "    compound_interest = amount - principal\n",
    "    return compound_interest\n",
    "\n",
    "principal = float(input(\"Enter the principal amount: \"))\n",
    "rate = float(input(\"Enter the annual interest rate (in %): \"))\n",
    "time = float(input(\"Enter the time (in years): \"))\n",
    "\n",
    "ci = calculate_compound_interest(principal, rate, time)\n",
    "print(f\"Compound Interest: {ci:.2f}\")\n"
   ]
  },
  {
   "cell_type": "code",
   "execution_count": 23,
   "id": "06ea1d42-9ebc-47f2-a6ef-6962e7c662fc",
   "metadata": {},
   "outputs": [
    {
     "name": "stdout",
     "output_type": "stream",
     "text": [
      "Restaurant Name: Food Paradise\n",
      "Cuisine Type: Italian\n",
      "The restaurant 'Food Paradise' serves Italian cuisine.\n",
      "The restaurant 'Food Paradise' is now open!\n"
     ]
    }
   ],
   "source": [
    "\"\"\"\n",
    "A) Make a class called Restaurant. The init () method for Restaurant should store two\n",
    "attributes: a restaurant_name and a cuisine_type. Make a method called describe_restaurant()\n",
    "that prints these two pieces of information, and a method called open_restaurant() that prints a\n",
    "message indicating that the restaurant is open. Make an instance called restaurant from your\n",
    "class. Print the two attributes individually, and then call both methods.\n",
    "\"\"\"\n",
    "\n",
    "\n",
    "class Restaurant:\n",
    "    def __init__(self, restaurant_name, cuisine_type):\n",
    "        self.restaurant_name = restaurant_name\n",
    "        self.cuisine_type = cuisine_type\n",
    "\n",
    "    def describe_restaurant(self):\n",
    "        print(f\"The restaurant '{self.restaurant_name}' serves {self.cuisine_type} cuisine.\")\n",
    "\n",
    "    def open_restaurant(self):\n",
    "        print(f\"The restaurant '{self.restaurant_name}' is now open!\")\n",
    "\n",
    "\n",
    "restaurant = Restaurant(\"Food Paradise\", \"Italian\")\n",
    "\n",
    "print(f\"Restaurant Name: {restaurant.restaurant_name}\")\n",
    "print(f\"Cuisine Type: {restaurant.cuisine_type}\")\n",
    "\n",
    "\n",
    "restaurant.describe_restaurant()\n",
    "restaurant.open_restaurant()\n"
   ]
  },
  {
   "cell_type": "code",
   "execution_count": 22,
   "id": "a461fda6-03f3-4bff-b5a8-30fd7c9d4b98",
   "metadata": {},
   "outputs": [
    {
     "name": "stdout",
     "output_type": "stream",
     "text": [
      "User Profile:\n",
      "  Name: Aptik Pandey\n",
      "  Age: 20\n",
      "  Email: aptik.pandey@example.com\n",
      "Hello, Aptik Pandey! Welcome back!\n",
      "User Profile:\n",
      "  Name: Priya Sharma\n",
      "  Age: 25\n",
      "  Email: priya.sharma@example.com\n",
      "Hello, Priya Sharma! Welcome back!\n"
     ]
    }
   ],
   "source": [
    "\"\"\"\n",
    "B) Make a class called User. Create two attributes called first_name and last_name, and then\n",
    "create several other attributes that are typically stored in a user profile. Make a method called\n",
    "describe_user() that prints a summary of the user’s information. Make another method called\n",
    "greet_user() that prints a personalized greeting to the user. Create several instances representing\n",
    "different users, and call both method for each user.\n",
    "\"\"\"\n",
    "\n",
    "class User:\n",
    "    def __init__(self, first_name, last_name, age, email):\n",
    "        self.first_name = first_name\n",
    "        self.last_name = last_name\n",
    "        self.age = age\n",
    "        self.email = email\n",
    "\n",
    "    def describe_user(self):\n",
    "        print(f\"User Profile:\\n  Name: {self.first_name} {self.last_name}\\n  Age: {self.age}\\n  Email: {self.email}\")\n",
    "\n",
    "    def greet_user(self):\n",
    "        print(f\"Hello, {self.first_name} {self.last_name}! Welcome back!\")\n",
    "\n",
    "\n",
    "user1 = User(\"Aptik\", \"Pandey\", 20, \"aptik.pandey@example.com\")\n",
    "user2 = User(\"Priya\", \"Sharma\", 25, \"priya.sharma@example.com\")\n",
    "\n",
    "\n",
    "user1.describe_user()\n",
    "user1.greet_user()\n",
    "\n",
    "user2.describe_user()\n",
    "user2.greet_user()\n"
   ]
  },
  {
   "cell_type": "code",
   "execution_count": null,
   "id": "10e4c42d-7483-4db5-ad4a-74121c6460a4",
   "metadata": {},
   "outputs": [],
   "source": []
  }
 ],
 "metadata": {
  "kernelspec": {
   "display_name": "Python 3 (ipykernel)",
   "language": "python",
   "name": "python3"
  },
  "language_info": {
   "codemirror_mode": {
    "name": "ipython",
    "version": 3
   },
   "file_extension": ".py",
   "mimetype": "text/x-python",
   "name": "python",
   "nbconvert_exporter": "python",
   "pygments_lexer": "ipython3",
   "version": "3.13.1"
  }
 },
 "nbformat": 4,
 "nbformat_minor": 5
}
