{
 "cells": [
  {
   "cell_type": "code",
   "execution_count": null,
   "id": "4434f8e1-d608-46e8-b3dc-b71ba010d2cf",
   "metadata": {},
   "outputs": [],
   "source": [
    "AI LAB ASSIGNMENT 3"
   ]
  },
  {
   "cell_type": "code",
   "execution_count": 1,
   "id": "127bf03f-cf84-41ba-b90e-e0a4bf04b30f",
   "metadata": {},
   "outputs": [
    {
     "name": "stdout",
     "output_type": "stream",
     "text": [
      "DFS Path: ['A', 'B', 'E', 'G']\n"
     ]
    }
   ],
   "source": [
    "def dfs(graph, start, goal, visited=None):\n",
    "    if visited is None:\n",
    "        visited = set()\n",
    "    visited.add(start)\n",
    "\n",
    "    if start == goal:\n",
    "        return [start]\n",
    "\n",
    "    for neighbor in graph.get(start, []):\n",
    "        if neighbor not in visited:\n",
    "            path = dfs(graph, neighbor, goal, visited)\n",
    "            if path:\n",
    "                return [start] + path\n",
    "    return None\n",
    "\n",
    "# Input Graph\n",
    "graph = {\n",
    "    'A': ['B', 'C'],\n",
    "    'B': ['D', 'E'],\n",
    "    'C': ['F'],\n",
    "    'D': [],\n",
    "    'E': ['G'],\n",
    "    'F': [],\n",
    "    'G': []\n",
    "}\n",
    "\n",
    "# Execution\n",
    "start = 'A'\n",
    "goal = 'G'\n",
    "path = dfs(graph, start, goal)\n",
    "print(\"DFS Path:\", path)\n"
   ]
  },
  {
   "cell_type": "code",
   "execution_count": 3,
   "id": "07122509-71ce-4159-a58c-3c69eac916d1",
   "metadata": {},
   "outputs": [
    {
     "name": "stdout",
     "output_type": "stream",
     "text": [
      "BFS Path: ['A', 'B', 'E', 'G']\n"
     ]
    }
   ],
   "source": [
    "from collections import deque\n",
    "\n",
    "def bfs(graph, start, goal):\n",
    "    queue = deque([[start]])\n",
    "    visited = set()\n",
    "\n",
    "    while queue:\n",
    "        path = queue.popleft()\n",
    "        node = path[-1]\n",
    "\n",
    "        if node == goal:\n",
    "            return path\n",
    "\n",
    "        if node not in visited:\n",
    "            visited.add(node)\n",
    "            for neighbor in graph.get(node, []):\n",
    "                queue.append(path + [neighbor])\n",
    "    return None\n",
    "\n",
    "# Execution\n",
    "path = bfs(graph, start, goal)\n",
    "print(\"BFS Path:\", path)\n"
   ]
  },
  {
   "cell_type": "code",
   "execution_count": 5,
   "id": "c333afe1-36fd-4602-a776-82b9b549a23d",
   "metadata": {},
   "outputs": [
    {
     "name": "stdout",
     "output_type": "stream",
     "text": [
      "DLS Path (Depth=3): ['A', 'B', 'E', 'G']\n"
     ]
    }
   ],
   "source": [
    "def dls(graph, start, goal, depth):\n",
    "    if depth == 0 and start == goal:\n",
    "        return [start]\n",
    "    if depth == 0:\n",
    "        return None\n",
    "\n",
    "    for neighbor in graph.get(start, []):\n",
    "        path = dls(graph, neighbor, goal, depth - 1)\n",
    "        if path:\n",
    "            return [start] + path\n",
    "    return None\n",
    "\n",
    "# Execution (Depth Limit = 3)\n",
    "depth_limit = 3\n",
    "path = dls(graph, start, goal, depth_limit)\n",
    "print(f\"DLS Path (Depth={depth_limit}):\", path)\n"
   ]
  },
  {
   "cell_type": "code",
   "execution_count": 7,
   "id": "876ded49-095e-4bea-a4c3-2605a7211d14",
   "metadata": {},
   "outputs": [
    {
     "name": "stdout",
     "output_type": "stream",
     "text": [
      "IDDFS Path: ['A', 'B', 'E', 'G'] at Depth: 3\n"
     ]
    }
   ],
   "source": [
    "def iddfs(graph, start, goal):\n",
    "    depth = 0\n",
    "    while True:\n",
    "        path = dls(graph, start, goal, depth)\n",
    "        if path:\n",
    "            return depth, path\n",
    "        depth += 1\n",
    "\n",
    "# Execution\n",
    "depth, path = iddfs(graph, start, goal)\n",
    "print(f\"IDDFS Path: {path} at Depth: {depth}\")\n"
   ]
  },
  {
   "cell_type": "code",
   "execution_count": 9,
   "id": "04c676c1-9309-4974-8cde-79b66e8466e3",
   "metadata": {},
   "outputs": [
    {
     "name": "stdout",
     "output_type": "stream",
     "text": [
      "UCS Path: ['S', 'A', 'C', 'G'], Cost: 6\n"
     ]
    }
   ],
   "source": [
    "from queue import PriorityQueue\n",
    "\n",
    "def ucs(graph, start, goal):\n",
    "    pq = PriorityQueue()\n",
    "    pq.put((0, [start]))\n",
    "\n",
    "    while not pq.empty():\n",
    "        cost, path = pq.get()\n",
    "        node = path[-1]\n",
    "\n",
    "        if node == goal:\n",
    "            return cost, path\n",
    "\n",
    "        for neighbor, weight in graph.get(node, []):\n",
    "            if neighbor not in path:\n",
    "                pq.put((cost + weight, path + [neighbor]))\n",
    "\n",
    "    return None\n",
    "\n",
    "# Weighted Graph for UCS\n",
    "weighted_graph = {\n",
    "    'S': [('A', 1), ('B', 4)],\n",
    "    'A': [('C', 2), ('D', 5)],\n",
    "    'B': [('D', 1)],\n",
    "    'C': [('G', 3)],\n",
    "    'D': [('G', 2)],\n",
    "    'G': []\n",
    "}\n",
    "\n",
    "# Execution\n",
    "start = 'S'\n",
    "goal = 'G'\n",
    "cost, path = ucs(weighted_graph, start, goal)\n",
    "print(f\"UCS Path: {path}, Cost: {cost}\")\n"
   ]
  },
  {
   "cell_type": "code",
   "execution_count": null,
   "id": "ef427c43-c229-42e3-8fc0-3506c5c15fe9",
   "metadata": {},
   "outputs": [],
   "source": []
  }
 ],
 "metadata": {
  "kernelspec": {
   "display_name": "Python [conda env:base] *",
   "language": "python",
   "name": "conda-base-py"
  },
  "language_info": {
   "codemirror_mode": {
    "name": "ipython",
    "version": 3
   },
   "file_extension": ".py",
   "mimetype": "text/x-python",
   "name": "python",
   "nbconvert_exporter": "python",
   "pygments_lexer": "ipython3",
   "version": "3.12.7"
  }
 },
 "nbformat": 4,
 "nbformat_minor": 5
}
