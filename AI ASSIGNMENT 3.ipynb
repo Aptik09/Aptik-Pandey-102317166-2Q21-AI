{
 "cells": [
  {
   "cell_type": "markdown",
   "id": "6ee27fce-9822-4d3a-a8ab-457216de4c78",
   "metadata": {},
   "source": [
    "Artificial Intelligence\n",
    "LAB ASSIGNMENT-3"
   ]
  },
  {
   "cell_type": "code",
   "execution_count": 7,
   "id": "cbfb5b01-7622-4a3d-a7ff-3dc2fda40bde",
   "metadata": {},
   "outputs": [],
   "source": [
    "# Depth First Search (DFS)\n",
    "def depth_first_search(start, goal, visited=None):\n",
    "    if visited is None:\n",
    "        visited = []\n",
    "    visited.append(start)\n",
    "    if start == goal:\n",
    "        return visited\n",
    "    for neighbor in get_neighbors(start):\n",
    "        if neighbor not in visited:\n",
    "            path = depth_first_search(neighbor, goal, visited[:])\n",
    "            if path:\n",
    "                return path\n",
    "    return None"
   ]
  },
  {
   "cell_type": "code",
   "execution_count": 9,
   "id": "3fbcf31d-5c26-4dfa-a3ae-4fe9995d2d45",
   "metadata": {},
   "outputs": [],
   "source": [
    "# Breadth First Search (BFS)\n",
    "def breadth_first_search(start, goal):\n",
    "    queue = [[start]]\n",
    "    while queue:\n",
    "        path = queue.pop(0)\n",
    "        node = path[-1]\n",
    "        if node == goal:\n",
    "            return path\n",
    "        for neighbor in get_neighbors(node):\n",
    "            if neighbor not in path:\n",
    "                queue.append(path + [neighbor])\n",
    "    return None"
   ]
  },
  {
   "cell_type": "code",
   "execution_count": null,
   "id": "60286560-86b5-4610-a8a7-f7f471be3d01",
   "metadata": {},
   "outputs": [],
   "source": [
    "# Depth Limited Search (DLS)\n",
    "def depth_limited_search(start, goal, depth, current_depth=0):\n",
    "    if current_depth > depth:\n",
    "        return None\n",
    "    if start == goal:\n",
    "        return [start]\n",
    "    for neighbor in get_neighbors(start):\n",
    "        path = depth_limited_search(neighbor, goal, depth, current_depth + 1)\n",
    "        if path:\n",
    "            return [start] + path\n",
    "    return None"
   ]
  },
  {
   "cell_type": "code",
   "execution_count": null,
   "id": "0eaa54fe-9a61-4039-bf6c-82dc12d30e53",
   "metadata": {},
   "outputs": [],
   "source": [
    "# Iterative Deepening Depth First Search (IDDFS)\n",
    "def iterative_deepening(start, goal):\n",
    "    depth = 0\n",
    "    while True:\n",
    "        path = depth_limited_search(start, goal, depth)\n",
    "        if path:\n",
    "            return depth, path\n",
    "        depth += 1\n"
   ]
  },
  {
   "cell_type": "code",
   "execution_count": 15,
   "id": "d5e20bfa-1128-4c46-8694-da3aace0ca93",
   "metadata": {},
   "outputs": [],
   "source": [
    "# Uniform Cost Search (UCS)\n",
    "from queue import PriorityQueue\n",
    "\n",
    "def uniform_cost_search(start, goal):\n",
    "    pq = PriorityQueue()\n",
    "    pq.put((0, [start]))\n",
    "    while not pq.empty():\n",
    "        cost, path = pq.get()\n",
    "        node = path[-1]\n",
    "        if node == goal:\n",
    "            return cost, path\n",
    "        for neighbor, weight in get_weighted_neighbors(node):\n",
    "            if neighbor not in path:\n",
    "                pq.put((cost + weight, path + [neighbor]))\n",
    "    return None"
   ]
  },
  {
   "cell_type": "code",
   "execution_count": null,
   "id": "e79e0dde-b3a8-4050-af38-5afb780fed96",
   "metadata": {},
   "outputs": [],
   "source": []
  }
 ],
 "metadata": {
  "kernelspec": {
   "display_name": "Python [conda env:base] *",
   "language": "python",
   "name": "conda-base-py"
  },
  "language_info": {
   "codemirror_mode": {
    "name": "ipython",
    "version": 3
   },
   "file_extension": ".py",
   "mimetype": "text/x-python",
   "name": "python",
   "nbconvert_exporter": "python",
   "pygments_lexer": "ipython3",
   "version": "3.12.7"
  }
 },
 "nbformat": 4,
 "nbformat_minor": 5
}
